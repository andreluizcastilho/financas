{
 "cells": [
  {
   "cell_type": "markdown",
   "id": "2880aa5c",
   "metadata": {},
   "source": [
    "# Capítulo 5 – Desenvolvimento de web crawlers (hands-on)"
   ]
  },
  {
   "cell_type": "markdown",
   "id": "32a50a74",
   "metadata": {},
   "source": [
    "## Aula 5.1. Coleta de dados de mercado"
   ]
  },
  {
   "cell_type": "markdown",
   "id": "a6e0669b",
   "metadata": {},
   "source": [
    "### Setup inicial"
   ]
  },
  {
   "cell_type": "markdown",
   "id": "009f3df1",
   "metadata": {},
   "source": [
    "#### 1. Baixar e instalar o Anaconda (https://www.anaconda.com/products/distribution)"
   ]
  },
  {
   "cell_type": "markdown",
   "id": "b8a2adea",
   "metadata": {},
   "source": [
    "#### 2. Testar a instalação do Anaconda/Python no terminal"
   ]
  },
  {
   "cell_type": "markdown",
   "id": "d1c95317",
   "metadata": {},
   "source": [
    "2.1. Abrir um terminal\n",
    "\n",
    "2.2. Rodar os comandos python ou python3 e verificar se foram reconhecidos"
   ]
  },
  {
   "cell_type": "markdown",
   "id": "e0c9a181",
   "metadata": {},
   "source": [
    "#### 3. Criar um ambiente virtual para desenvolvermos nossos códigos"
   ]
  },
  {
   "cell_type": "markdown",
   "id": "084971ef",
   "metadata": {},
   "source": [
    "3.1. Criar um novo ambiente virtual: conda create --name xp_crv\n",
    "\n",
    "3.2. Ativar o novo ambiente virtual: conda activate xp_crv\n",
    "\n",
    "3.3. Instalar o ipykernel: conda install ipykernel\n",
    "\n",
    "3.5. Associar o python com esse ambiente virtual: python -m ipykernel install --user --name=xp_crv\n",
    "\n",
    "3.4. Restartar o kernel e verificar se o ambiente criado aparece disponível"
   ]
  },
  {
   "cell_type": "markdown",
   "id": "f345ed25",
   "metadata": {},
   "source": [
    "#### 4. Abrir um jupyter notebook pelo terminal"
   ]
  }
 ],
 "metadata": {
  "kernelspec": {
   "display_name": "Python 3 (ipykernel)",
   "language": "python",
   "name": "python3"
  },
  "language_info": {
   "codemirror_mode": {
    "name": "ipython",
    "version": 3
   },
   "file_extension": ".py",
   "mimetype": "text/x-python",
   "name": "python",
   "nbconvert_exporter": "python",
   "pygments_lexer": "ipython3",
   "version": "3.10.9"
  }
 },
 "nbformat": 4,
 "nbformat_minor": 5
}
